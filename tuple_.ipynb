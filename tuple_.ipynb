{
 "cells": [
  {
   "cell_type": "markdown",
   "metadata": {},
   "source": [
    "#### d) tuple_ :\n",
    "#### SYNTAX:\n",
    "      (P[X]==tuple_(Y, order_by=Z)) <= body\n",
    "#### P[X] is a tuple containing all values of Y sorted by Z."
   ]
  },
  {
   "cell_type": "code",
   "execution_count": 2,
   "metadata": {},
   "outputs": [
    {
     "name": "stdout",
     "output_type": "stream",
     "text": [
      "ClassName | X                                     \n",
      "----------|---------------------------------------\n",
      "1C        | ('Saima', 'Teju')                     \n",
      "1B        | ('Raja',)                             \n",
      "1A        | ('Chandini', 'Joey', 'Sonia', 'Suraj')\n"
     ]
    }
   ],
   "source": [
    "from pyDatalog import pyDatalog\n",
    "pyDatalog.create_terms ('pupil, ClassName, Name, Age, tuple1,X')\n",
    "+ pupil('1A', 'Joey', 8)\n",
    "+ pupil('1A', 'Sonia', 9)\n",
    "+ pupil('1A', 'Chandini', 10)\n",
    "+ pupil('1B', 'Raja',13)\n",
    "+ pupil('1A', 'Suraj', 14)\n",
    "+ pupil('1C', 'Saima', 15)\n",
    "+ pupil('1C', 'Teju', 15)\n",
    "(tuple1[ClassName]== tuple_(Name, order_by= Name)) <= (pupil (ClassName, Name, Age))\n",
    "print (tuple1[ClassName] ==X)"
   ]
  },
  {
   "cell_type": "markdown",
   "metadata": {},
   "source": [
    "#### The above example prints the tuple of Students of their respective classes.\n"
   ]
  },
  {
   "cell_type": "code",
   "execution_count": null,
   "metadata": {},
   "outputs": [],
   "source": []
  }
 ],
 "metadata": {
  "kernelspec": {
   "display_name": "Python 3",
   "language": "python",
   "name": "python3"
  },
  "language_info": {
   "codemirror_mode": {
    "name": "ipython",
    "version": 3
   },
   "file_extension": ".py",
   "mimetype": "text/x-python",
   "name": "python",
   "nbconvert_exporter": "python",
   "pygments_lexer": "ipython3",
   "version": "3.8.5"
  }
 },
 "nbformat": 4,
 "nbformat_minor": 4
}
