{
 "cells": [
  {
   "cell_type": "markdown",
   "metadata": {},
   "source": [
    "### a) len_:\n",
    "#### A Aggregate function which is used to count the number of results is ‘len_’\n",
    "#### SYNTAX:\n",
    "       (F[X]==len_(Y)) <= body\n",
    "#### F[X] is the count of values of Y (associated to X by the body of the clause)\n"
   ]
  },
  {
   "cell_type": "code",
   "execution_count": 6,
   "metadata": {},
   "outputs": [
    {
     "name": "stdout",
     "output_type": "stream",
     "text": [
      "X\n",
      "-\n",
      "3\n",
      "Y\n",
      "-\n",
      "1\n",
      "Z\n",
      "-\n",
      "2\n"
     ]
    }
   ],
   "source": [
    "from pyDatalog import pyDatalog\n",
    "pyDatalog.create_terms('T,S,X,Y,Z, number_of_students_of_, teacher')\n",
    "+ (teacher ['Krishna'] == 'Poorna')\n",
    "+ (teacher ['Ram'] == 'Poorna')\n",
    "+ (teacher ['Radha'] == 'Priya')\n",
    "+ (teacher ['Laxmi'] == 'Ravi')\n",
    "+ (teacher ['Shyam'] == 'Priya')\n",
    "+ (teacher ['Aadhi'] == 'Priya') \n",
    "(number_of_students_of_[T]==len_(S)) <= (teacher[S]==T)\n",
    "print (number_of_students_of_['Priya']== X) # displays 3 as Radha, Shyam and Aadhi (3 members) are\n",
    "# students of Priya\n",
    "print (number_of_students_of_['Ravi'] == Y) # displays 1 as Laxmi is the only student of Ravi \n",
    "print(number_of_students_of_['Poorna'] == Z)\n",
    "# displays 2 as Krishna and Ram(2 members) are students of Poorna"
   ]
  }
 ],
 "metadata": {
  "kernelspec": {
   "display_name": "Python 3",
   "language": "python",
   "name": "python3"
  },
  "language_info": {
   "codemirror_mode": {
    "name": "ipython",
    "version": 3
   },
   "file_extension": ".py",
   "mimetype": "text/x-python",
   "name": "python",
   "nbconvert_exporter": "python",
   "pygments_lexer": "ipython3",
   "version": "3.8.5"
  }
 },
 "nbformat": 4,
 "nbformat_minor": 4
}
