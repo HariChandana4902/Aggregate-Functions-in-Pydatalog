{
 "cells": [
  {
   "cell_type": "markdown",
   "metadata": {},
   "source": [
    "#### e) rank_:\n",
    "#### SYNTAX:\n",
    "      (P[X]==rank_(group_by=Y, order_by=Z)) <= body\n",
    "#### P[X] is the sequence number of X in the list of Y values when the list is sorted by Z."
   ]
  },
  {
   "cell_type": "code",
   "execution_count": 1,
   "metadata": {},
   "outputs": [
    {
     "name": "stdout",
     "output_type": "stream",
     "text": [
      "Name  | X\n",
      "------|--\n",
      "Bill  | 1\n",
      "Ram   | 0\n",
      "Bella | 1\n",
      "Isaac | 0\n"
     ]
    }
   ],
   "source": [
    "from pyDatalog import pyDatalog\n",
    "pyDatalog.create_terms ('pupil, ClassName, Name, Age, seq_no,X')\n",
    "+ pupil('1A', 'Isaac', 8)\n",
    "+ pupil('1B', 'Ram',8)\n",
    "+ pupil('1B', 'Bill',9)\n",
    "+ pupil('1A', 'Bella', 9)\n",
    "(seq_no[Name] == rank_(group_by= ClassName, order_by= Age)) <= (pupil (ClassName, Name, Age))\n",
    "print (seq_no[Name] ==X)"
   ]
  },
  {
   "cell_type": "markdown",
   "metadata": {},
   "source": [
    "#### The above example gives the sequence or order in which we entered the data\n",
    "#### As Isaac in classname 'A' is entered first, his rank is '0' whereas Bella in the same class is entered second her rank is '1'"
   ]
  }
 ],
 "metadata": {
  "kernelspec": {
   "display_name": "Python 3",
   "language": "python",
   "name": "python3"
  },
  "language_info": {
   "codemirror_mode": {
    "name": "ipython",
    "version": 3
   },
   "file_extension": ".py",
   "mimetype": "text/x-python",
   "name": "python",
   "nbconvert_exporter": "python",
   "pygments_lexer": "ipython3",
   "version": "3.8.5"
  }
 },
 "nbformat": 4,
 "nbformat_minor": 4
}
