{
 "cells": [
  {
   "cell_type": "markdown",
   "metadata": {},
   "source": [
    "#### b) min_ :\n",
    "#### SYNTAX:\n",
    "      (F[X]==min_(Y, order_by=Z)) <= body\n",
    "#### F[X] is the minimum of Y sorted by Z.\n"
   ]
  },
  {
   "cell_type": "code",
   "execution_count": 3,
   "metadata": {},
   "outputs": [
    {
     "name": "stdout",
     "output_type": "stream",
     "text": [
      "ClassName | X    \n",
      "----------|------\n",
      "1B        | Alena\n",
      "1A        | Teju \n"
     ]
    }
   ],
   "source": [
    "from pyDatalog import pyDatalog\n",
    "pyDatalog.create_terms ('pupil, ClassName, Name, Age,younger,X')\n",
    "+ (pupil('1A', 'Ben', 8))\n",
    "+ (pupil('1A', 'Aman', 10))\n",
    "+ (pupil('1A', 'Teju', 6))\n",
    "+ (pupil('1B', 'Alena', 7))\n",
    "+ (pupil('1B', 'Mendeleev', 9))\n",
    "+ (pupil('1B', 'Joey',10))\n",
    "(younger [ClassName] == min_(Name, order_by= Age)) <= (pupil(ClassName, Name, Age))\n",
    "print((younger [ClassName] ==X))"
   ]
  },
  {
   "cell_type": "markdown",
   "metadata": {},
   "source": [
    "#### The above example outputs the Name of the children, along with the Classname who are having minimum age among the students in their respective classes."
   ]
  }
 ],
 "metadata": {
  "kernelspec": {
   "display_name": "Python 3",
   "language": "python",
   "name": "python3"
  },
  "language_info": {
   "codemirror_mode": {
    "name": "ipython",
    "version": 3
   },
   "file_extension": ".py",
   "mimetype": "text/x-python",
   "name": "python",
   "nbconvert_exporter": "python",
   "pygments_lexer": "ipython3",
   "version": "3.8.5"
  }
 },
 "nbformat": 4,
 "nbformat_minor": 4
}
