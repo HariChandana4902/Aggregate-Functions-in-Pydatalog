{
 "cells": [
  {
   "cell_type": "markdown",
   "metadata": {},
   "source": [
    "#### c) max_:\n",
    "#### SYNTAX:\n",
    "     (F[X]==max_(Y, order_by=Z)) <= body\n",
    "#### F[X] is the maximum of Y sorted by Z."
   ]
  },
  {
   "cell_type": "code",
   "execution_count": 1,
   "metadata": {},
   "outputs": [
    {
     "name": "stdout",
     "output_type": "stream",
     "text": [
      "ClassName | X   \n",
      "----------|-----\n",
      "1B        | Joey\n",
      "1A        | Aman\n"
     ]
    }
   ],
   "source": [
    "from pyDatalog import pyDatalog\n",
    "pyDatalog.create_terms ('pupil, ClassName, Name, Age,elder,X')\n",
    "+ (pupil('1A', 'Ben', 8))\n",
    "+ (pupil('1A', 'Aman', 10))\n",
    "+ (pupil('1A', 'Teju', 6))\n",
    "+ (pupil('1B', 'Alena', 7))\n",
    "+ (pupil('1B', 'Mendeleev', 9))\n",
    "+ (pupil('1B', 'Joey',10))\n",
    "(elder [ClassName] == max_(Name, order_by= Age)) <= (pupil(ClassName, Name, Age))\n",
    "print((elder [ClassName] ==X))"
   ]
  },
  {
   "cell_type": "markdown",
   "metadata": {},
   "source": [
    "#### The above example outputs the Name of the children, along with the Classname who are having maximum age among the students in their respective classes."
   ]
  }
 ],
 "metadata": {
  "kernelspec": {
   "display_name": "Python 3",
   "language": "python",
   "name": "python3"
  },
  "language_info": {
   "codemirror_mode": {
    "name": "ipython",
    "version": 3
   },
   "file_extension": ".py",
   "mimetype": "text/x-python",
   "name": "python",
   "nbconvert_exporter": "python",
   "pygments_lexer": "ipython3",
   "version": "3.8.5"
  }
 },
 "nbformat": 4,
 "nbformat_minor": 4
}
